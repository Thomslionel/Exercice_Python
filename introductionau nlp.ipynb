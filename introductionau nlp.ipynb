{
 "cells": [
  {
   "cell_type": "code",
   "execution_count": 1,
   "id": "3d5927c3-2286-470a-937f-64eebdb3c300",
   "metadata": {},
   "outputs": [],
   "source": [
    "import tensorflow as tf\n",
    "import tensorflow_datasets as tfds\n",
    "import numpy as np\n",
    "import matplotlib.pyplot as plt"
   ]
  },
  {
   "cell_type": "code",
   "execution_count": 2,
   "id": "44cc448f-d799-4bb7-8ba3-e2ae1579273a",
   "metadata": {},
   "outputs": [],
   "source": [
    "imdb_sentences = []\n",
    "imdb_labels = []\n"
   ]
  },
  {
   "cell_type": "code",
   "execution_count": 3,
   "id": "3c171e69-28b0-4a4a-bad7-eea3f090b646",
   "metadata": {},
   "outputs": [],
   "source": [
    "train_data = tfds.as_numpy(tfds.load('imdb_reviews', split='train'))"
   ]
  },
  {
   "cell_type": "code",
   "execution_count": 4,
   "id": "7fbf7652-4929-4f09-981a-7a3915ec13be",
   "metadata": {},
   "outputs": [],
   "source": [
    "for items in train_data:\n",
    "    imdb_sentences.append(str(items['text']))\n",
    "    imdb_labels.append(str(items['label']))\n",
    "\n"
   ]
  },
  {
   "cell_type": "code",
   "execution_count": 5,
   "id": "c8882452-0a8c-4cdf-ba8a-b1dec2c7d9f6",
   "metadata": {},
   "outputs": [],
   "source": [
    "train_sentence = imdb_sentences[:20000]\n",
    "test_sentence = imdb_sentences[20000:]"
   ]
  },
  {
   "cell_type": "code",
   "execution_count": 6,
   "id": "f1853203-b5c6-4d9d-a88d-ec605c484843",
   "metadata": {},
   "outputs": [],
   "source": [
    "train_labels = imdb_labels[:20000]\n",
    "test_labels = imdb_labels[20000:]"
   ]
  },
  {
   "cell_type": "code",
   "execution_count": 8,
   "id": "9f1af3cf-4507-4848-86e6-3813a49fd9b5",
   "metadata": {},
   "outputs": [
    {
     "data": {
      "text/plain": [
       "20000"
      ]
     },
     "execution_count": 8,
     "metadata": {},
     "output_type": "execute_result"
    }
   ],
   "source": [
    "len(train_sentence)"
   ]
  },
  {
   "cell_type": "code",
   "execution_count": 9,
   "id": "bbebe016-6829-46aa-b04a-a1736c3dfe5f",
   "metadata": {},
   "outputs": [
    {
     "data": {
      "text/plain": [
       "list"
      ]
     },
     "execution_count": 9,
     "metadata": {},
     "output_type": "execute_result"
    }
   ],
   "source": [
    "type(train_sentence)"
   ]
  },
  {
   "cell_type": "markdown",
   "id": "8c9ff440-7422-47b6-b99f-f0d89195e5a9",
   "metadata": {},
   "source": [
    "## Tokennisation du corpus"
   ]
  },
  {
   "cell_type": "code",
   "execution_count": 48,
   "id": "9942f514-2c85-4e29-b37c-7c97dab545cd",
   "metadata": {},
   "outputs": [],
   "source": [
    "from tensorflow.keras.preprocessing.text import Tokenizer"
   ]
  },
  {
   "cell_type": "code",
   "execution_count": 49,
   "id": "9e98dc89-00ea-49f3-9d17-a162c3837521",
   "metadata": {},
   "outputs": [],
   "source": [
    "tokenizer = Tokenizer(oov_token=\"<OOV>\", num_words= 29000)\n",
    "tokenizer.fit_on_texts(train_sentence)\n",
    "word_index = tokenizer.word_index # Dictionnaire de mots"
   ]
  },
  {
   "cell_type": "code",
   "execution_count": 50,
   "id": "b5ab6ca9-0cf5-448c-a35a-b684a84044de",
   "metadata": {},
   "outputs": [],
   "source": [
    "training_sequence = tokenizer.texts_to_sequences(train_sentence) # Corpus de texte devient des sequences de nombres"
   ]
  },
  {
   "cell_type": "code",
   "execution_count": 51,
   "id": "106b7e91-634c-47af-bdc4-18104abe8a3f",
   "metadata": {},
   "outputs": [],
   "source": [
    "from tensorflow.keras.preprocessing.sequence import pad_sequences\n",
    "training_padded = pad_sequences(training_sequence, padding = \"post\", truncating = 'post', maxlen = 100)"
   ]
  },
  {
   "cell_type": "code",
   "execution_count": 52,
   "id": "92385597-16f5-44e7-848f-ec59982c5786",
   "metadata": {},
   "outputs": [
    {
     "data": {
      "text/plain": [
       "{'label': i64[], 'text': str[]}"
      ]
     },
     "execution_count": 52,
     "metadata": {},
     "output_type": "execute_result"
    }
   ],
   "source": [
    "train_data.element_spec"
   ]
  },
  {
   "cell_type": "code",
   "execution_count": 100,
   "id": "14c97cd8-e538-408f-82f5-761df10efc7b",
   "metadata": {},
   "outputs": [],
   "source": [
    "test_sequence = tokenizer.texts_to_sequences(test_sentence) # Corpus de texte devient des sequences de nombres\n",
    "test_padded = pad_sequences(test_sequence, padding = \"post\", truncating = 'post', maxlen = 100)"
   ]
  },
  {
   "cell_type": "code",
   "execution_count": 101,
   "id": "5615c61b-0541-4bc5-8b93-7db56fe37f18",
   "metadata": {},
   "outputs": [
    {
     "data": {
      "text/plain": [
       "[4668,\n",
       " 5,\n",
       " 2,\n",
       " 5838,\n",
       " 1706,\n",
       " 22,\n",
       " 2438,\n",
       " 1117,\n",
       " 5099,\n",
       " 594,\n",
       " 15,\n",
       " 2,\n",
       " 423,\n",
       " 5,\n",
       " 4,\n",
       " 836,\n",
       " 1335,\n",
       " 3371,\n",
       " 27082,\n",
       " 13092,\n",
       " 2,\n",
       " 2898,\n",
       " 5,\n",
       " 2,\n",
       " 198,\n",
       " 6,\n",
       " 29,\n",
       " 1568,\n",
       " 444,\n",
       " 10,\n",
       " 21,\n",
       " 871,\n",
       " 2,\n",
       " 217,\n",
       " 5,\n",
       " 2,\n",
       " 530,\n",
       " 44,\n",
       " 21,\n",
       " 4,\n",
       " 7464,\n",
       " 1040,\n",
       " 234,\n",
       " 477,\n",
       " 17,\n",
       " 31,\n",
       " 1562,\n",
       " 11738,\n",
       " 22,\n",
       " 1913,\n",
       " 2250,\n",
       " 807,\n",
       " 12,\n",
       " 7,\n",
       " 229,\n",
       " 38,\n",
       " 2,\n",
       " 526,\n",
       " 2348,\n",
       " 13598,\n",
       " 19,\n",
       " 1612,\n",
       " 594,\n",
       " 1,\n",
       " 27083,\n",
       " 4295,\n",
       " 1576,\n",
       " 26,\n",
       " 31,\n",
       " 727,\n",
       " 3162,\n",
       " 239,\n",
       " 24,\n",
       " 351,\n",
       " 2,\n",
       " 9632,\n",
       " 5,\n",
       " 4,\n",
       " 223,\n",
       " 3202,\n",
       " 6,\n",
       " 70,\n",
       " 1240,\n",
       " 8,\n",
       " 8,\n",
       " 92,\n",
       " 5,\n",
       " 2,\n",
       " 2071,\n",
       " 26,\n",
       " 1,\n",
       " 244,\n",
       " 76,\n",
       " 8969,\n",
       " 15,\n",
       " 1706,\n",
       " 22403,\n",
       " 646,\n",
       " 26,\n",
       " 37,\n",
       " 13,\n",
       " 312,\n",
       " 5,\n",
       " 2,\n",
       " 2072,\n",
       " 582,\n",
       " 3,\n",
       " 720,\n",
       " 8580,\n",
       " 48,\n",
       " 23,\n",
       " 147,\n",
       " 40,\n",
       " 169,\n",
       " 2,\n",
       " 967,\n",
       " 160,\n",
       " 9,\n",
       " 2,\n",
       " 89,\n",
       " 272,\n",
       " 23,\n",
       " 305,\n",
       " 1644,\n",
       " 17,\n",
       " 10,\n",
       " 16,\n",
       " 92,\n",
       " 5,\n",
       " 2,\n",
       " 20,\n",
       " 135,\n",
       " 10423,\n",
       " 114,\n",
       " 11739,\n",
       " 1473,\n",
       " 1612,\n",
       " 233,\n",
       " 516,\n",
       " 16,\n",
       " 62,\n",
       " 52,\n",
       " 289,\n",
       " 233,\n",
       " 516,\n",
       " 8380,\n",
       " 13,\n",
       " 27,\n",
       " 21,\n",
       " 2610,\n",
       " 402,\n",
       " 3,\n",
       " 3800,\n",
       " 5481,\n",
       " 9,\n",
       " 2276,\n",
       " 39,\n",
       " 2,\n",
       " 16268,\n",
       " 1712,\n",
       " 22404,\n",
       " 737,\n",
       " 2,\n",
       " 218,\n",
       " 150,\n",
       " 773,\n",
       " 53,\n",
       " 2296,\n",
       " 76,\n",
       " 9,\n",
       " 85,\n",
       " 101,\n",
       " 3,\n",
       " 1834,\n",
       " 9,\n",
       " 177,\n",
       " 609,\n",
       " 6335,\n",
       " 12,\n",
       " 768,\n",
       " 16269,\n",
       " 1539,\n",
       " 2,\n",
       " 12572,\n",
       " 5159,\n",
       " 3,\n",
       " 10156,\n",
       " 2704,\n",
       " 2277,\n",
       " 16270,\n",
       " 16,\n",
       " 7340,\n",
       " 3,\n",
       " 6976,\n",
       " 6,\n",
       " 1777,\n",
       " 2,\n",
       " 1326,\n",
       " 9,\n",
       " 192,\n",
       " 2,\n",
       " 648,\n",
       " 12573,\n",
       " 198,\n",
       " 5,\n",
       " 24463,\n",
       " 12113,\n",
       " 3,\n",
       " 940,\n",
       " 10424,\n",
       " 1804,\n",
       " 30,\n",
       " 53,\n",
       " 5,\n",
       " 4056,\n",
       " 3,\n",
       " 4624,\n",
       " 37,\n",
       " 10,\n",
       " 21,\n",
       " 2248,\n",
       " 13,\n",
       " 4056,\n",
       " 1066,\n",
       " 7,\n",
       " 1001,\n",
       " 14770,\n",
       " 1,\n",
       " 477,\n",
       " 8,\n",
       " 8,\n",
       " 51,\n",
       " 417,\n",
       " 11379,\n",
       " 28,\n",
       " 4,\n",
       " 222,\n",
       " 5,\n",
       " 2,\n",
       " 153,\n",
       " 1266,\n",
       " 142,\n",
       " 15,\n",
       " 12,\n",
       " 197,\n",
       " 1066,\n",
       " 3,\n",
       " 5481,\n",
       " 50,\n",
       " 45,\n",
       " 4,\n",
       " 119,\n",
       " 3467,\n",
       " 482,\n",
       " 62,\n",
       " 62,\n",
       " 11,\n",
       " 116,\n",
       " 1222,\n",
       " 10,\n",
       " 482,\n",
       " 6657,\n",
       " 95,\n",
       " 62,\n",
       " 11,\n",
       " 116,\n",
       " 1222,\n",
       " 98,\n",
       " 13,\n",
       " 912,\n",
       " 67,\n",
       " 30,\n",
       " 150,\n",
       " 6,\n",
       " 1495,\n",
       " 23,\n",
       " 11,\n",
       " 116,\n",
       " 1222,\n",
       " 13,\n",
       " 353,\n",
       " 13,\n",
       " 301,\n",
       " 138,\n",
       " 4,\n",
       " 160,\n",
       " 131,\n",
       " 9,\n",
       " 25,\n",
       " 200,\n",
       " 204,\n",
       " 1,\n",
       " 58,\n",
       " 2,\n",
       " 20728,\n",
       " 674,\n",
       " 5,\n",
       " 7465,\n",
       " 3,\n",
       " 1,\n",
       " 5160,\n",
       " 62,\n",
       " 132,\n",
       " 23,\n",
       " 79,\n",
       " 234,\n",
       " 13,\n",
       " 5481,\n",
       " 357,\n",
       " 40,\n",
       " 180,\n",
       " 14771,\n",
       " 9,\n",
       " 6,\n",
       " 2,\n",
       " 537,\n",
       " 14772,\n",
       " 1706,\n",
       " 22,\n",
       " 1,\n",
       " 3,\n",
       " 13,\n",
       " 5221,\n",
       " 1,\n",
       " 1906,\n",
       " 15,\n",
       " 4,\n",
       " 3831,\n",
       " 63,\n",
       " 29,\n",
       " 229,\n",
       " 2760,\n",
       " 12,\n",
       " 128,\n",
       " 166,\n",
       " 596,\n",
       " 9,\n",
       " 172,\n",
       " 154,\n",
       " 67,\n",
       " 16,\n",
       " 2,\n",
       " 225,\n",
       " 3801,\n",
       " 230,\n",
       " 8,\n",
       " 8,\n",
       " 1612,\n",
       " 2824,\n",
       " 6,\n",
       " 7101,\n",
       " 16271,\n",
       " 6336,\n",
       " 138,\n",
       " 1336,\n",
       " 1,\n",
       " 7,\n",
       " 3179,\n",
       " 9,\n",
       " 4,\n",
       " 16272,\n",
       " 7,\n",
       " 1083,\n",
       " 13093,\n",
       " 679,\n",
       " 4135,\n",
       " 19,\n",
       " 1539,\n",
       " 2,\n",
       " 3019,\n",
       " 6,\n",
       " 1706,\n",
       " 10,\n",
       " 127,\n",
       " 13,\n",
       " 301,\n",
       " 1612,\n",
       " 21,\n",
       " 2758,\n",
       " 5,\n",
       " 1,\n",
       " 4057,\n",
       " 7,\n",
       " 4522,\n",
       " 23,\n",
       " 147,\n",
       " 40,\n",
       " 43,\n",
       " 141,\n",
       " 86,\n",
       " 2,\n",
       " 1939,\n",
       " 3,\n",
       " 837,\n",
       " 196,\n",
       " 16,\n",
       " 2,\n",
       " 218,\n",
       " 679,\n",
       " 23,\n",
       " 3335,\n",
       " 619,\n",
       " 127,\n",
       " 4,\n",
       " 119,\n",
       " 3275,\n",
       " 3,\n",
       " 364,\n",
       " 10,\n",
       " 89,\n",
       " 13,\n",
       " 203,\n",
       " 29,\n",
       " 37,\n",
       " 20729,\n",
       " 6336,\n",
       " 19,\n",
       " 23,\n",
       " 305,\n",
       " 24,\n",
       " 167,\n",
       " 6,\n",
       " 1217,\n",
       " 73,\n",
       " 58,\n",
       " 437,\n",
       " 4,\n",
       " 1590,\n",
       " 1612,\n",
       " 68,\n",
       " 269,\n",
       " 6,\n",
       " 115,\n",
       " 9,\n",
       " 25,\n",
       " 139,\n",
       " 17,\n",
       " 16271,\n",
       " 3,\n",
       " 23,\n",
       " 57,\n",
       " 116,\n",
       " 80,\n",
       " 1108,\n",
       " 5,\n",
       " 2286,\n",
       " 4,\n",
       " 8054,\n",
       " 19332,\n",
       " 2097,\n",
       " 296,\n",
       " 2526,\n",
       " 6239,\n",
       " 70,\n",
       " 19333,\n",
       " 8,\n",
       " 8,\n",
       " 1706,\n",
       " 22,\n",
       " 16269,\n",
       " 7,\n",
       " 24,\n",
       " 4,\n",
       " 81,\n",
       " 20,\n",
       " 33,\n",
       " 102,\n",
       " 818,\n",
       " 43,\n",
       " 4,\n",
       " 1,\n",
       " 12574,\n",
       " 1250,\n",
       " 30,\n",
       " 47]"
      ]
     },
     "execution_count": 101,
     "metadata": {},
     "output_type": "execute_result"
    }
   ],
   "source": [
    "training_sequence[42]"
   ]
  },
  {
   "cell_type": "code",
   "execution_count": 102,
   "id": "37a4324a-9d90-4824-a280-836efc1b5059",
   "metadata": {},
   "outputs": [
    {
     "data": {
      "text/plain": [
       "475"
      ]
     },
     "execution_count": 102,
     "metadata": {},
     "output_type": "execute_result"
    }
   ],
   "source": [
    "len(training_sequence[42])"
   ]
  },
  {
   "cell_type": "code",
   "execution_count": 103,
   "id": "b7d95101-35af-4411-a66b-c19b5366f7e9",
   "metadata": {},
   "outputs": [
    {
     "data": {
      "text/plain": [
       "numpy.ndarray"
      ]
     },
     "execution_count": 103,
     "metadata": {},
     "output_type": "execute_result"
    }
   ],
   "source": [
    "type(test_labels)"
   ]
  },
  {
   "cell_type": "code",
   "execution_count": 104,
   "id": "b206e7b0-3ace-403d-bef8-598fea434a3e",
   "metadata": {},
   "outputs": [],
   "source": [
    "train_labels = np.array(train_labels)\n",
    "test_labels = np.array(test_labels)\n",
    "from sklearn.preprocessing import LabelEncoder\n",
    "\n",
    "# En supposant que vos étiquettes se trouvent dans une liste appelée `labels`\n",
    "encoder = LabelEncoder()\n",
    "encoder.fit(imdb_labels)\n",
    "\n",
    "train_labels = encoder.transform(train_labels)\n",
    "test_labels = encoder.transform(test_labels)"
   ]
  },
  {
   "cell_type": "markdown",
   "id": "b8cfad0d-232f-4e75-b99d-5013418f51d1",
   "metadata": {},
   "source": [
    "## Embeding et Neurones"
   ]
  },
  {
   "cell_type": "code",
   "execution_count": 117,
   "id": "26c050e3-fd22-4222-b479-de82dea1e126",
   "metadata": {},
   "outputs": [
    {
     "name": "stderr",
     "output_type": "stream",
     "text": [
      "C:\\Python312\\Lib\\site-packages\\keras\\src\\layers\\core\\embedding.py:93: UserWarning: Do not pass an `input_shape`/`input_dim` argument to a layer. When using Sequential models, prefer using an `Input(shape)` object as the first layer in the model instead.\n",
      "  super().__init__(**kwargs)\n"
     ]
    }
   ],
   "source": [
    "model = tf.keras.models.Sequential()\n",
    "model.add(tf.keras.layers.Embedding(29000, 13,input_shape=(100,)))\n",
    "model.add(tf.keras.layers.GlobalAveragePooling1D())\n",
    "model.add(tf.keras.layers.Dense(8, activation = \"relu\"))\n",
    "model.add(tf.keras.layers.Dropout(0.2))\n",
    "model.add(tf.keras.layers.Dense(5, activation = \"relu\"))\n",
    "model.add(tf.keras.layers.Dropout(0.2))\n",
    "model.add(tf.keras.layers.Dense(1, activation='sigmoid'))"
   ]
  },
  {
   "cell_type": "code",
   "execution_count": 118,
   "id": "014258a3-4c6c-4b47-a7ea-071e22b4520c",
   "metadata": {},
   "outputs": [],
   "source": [
    "stop = tf.keras.callbacks.EarlyStopping(monitor=\"val_accuracy\", patience=10)\n",
    "best_model = \"sentimentdecommentaire.keras\"\n",
    "model_ckp = tf.keras.callbacks.ModelCheckpoint(filepath=best_model,\n",
    "                                               monitor=\"val_accuracy\",\n",
    "                                               mode = \"max\",\n",
    "                                               save_best_only=True)"
   ]
  },
  {
   "cell_type": "code",
   "execution_count": 119,
   "id": "7e6a1092-e8ee-4e07-8885-128b14172953",
   "metadata": {},
   "outputs": [
    {
     "data": {
      "text/html": [
       "<pre style=\"white-space:pre;overflow-x:auto;line-height:normal;font-family:Menlo,'DejaVu Sans Mono',consolas,'Courier New',monospace\"><span style=\"font-weight: bold\">Model: \"sequential_5\"</span>\n",
       "</pre>\n"
      ],
      "text/plain": [
       "\u001b[1mModel: \"sequential_5\"\u001b[0m\n"
      ]
     },
     "metadata": {},
     "output_type": "display_data"
    },
    {
     "data": {
      "text/html": [
       "<pre style=\"white-space:pre;overflow-x:auto;line-height:normal;font-family:Menlo,'DejaVu Sans Mono',consolas,'Courier New',monospace\">┏━━━━━━━━━━━━━━━━━━━━━━━━━━━━━━━━━━━━━━┳━━━━━━━━━━━━━━━━━━━━━━━━━━━━━┳━━━━━━━━━━━━━━━━━┓\n",
       "┃<span style=\"font-weight: bold\"> Layer (type)                         </span>┃<span style=\"font-weight: bold\"> Output Shape                </span>┃<span style=\"font-weight: bold\">         Param # </span>┃\n",
       "┡━━━━━━━━━━━━━━━━━━━━━━━━━━━━━━━━━━━━━━╇━━━━━━━━━━━━━━━━━━━━━━━━━━━━━╇━━━━━━━━━━━━━━━━━┩\n",
       "│ embedding_5 (<span style=\"color: #0087ff; text-decoration-color: #0087ff\">Embedding</span>)              │ (<span style=\"color: #00d7ff; text-decoration-color: #00d7ff\">None</span>, <span style=\"color: #00af00; text-decoration-color: #00af00\">100</span>, <span style=\"color: #00af00; text-decoration-color: #00af00\">13</span>)             │         <span style=\"color: #00af00; text-decoration-color: #00af00\">377,000</span> │\n",
       "├──────────────────────────────────────┼─────────────────────────────┼─────────────────┤\n",
       "│ global_average_pooling1d_5           │ (<span style=\"color: #00d7ff; text-decoration-color: #00d7ff\">None</span>, <span style=\"color: #00af00; text-decoration-color: #00af00\">13</span>)                  │               <span style=\"color: #00af00; text-decoration-color: #00af00\">0</span> │\n",
       "│ (<span style=\"color: #0087ff; text-decoration-color: #0087ff\">GlobalAveragePooling1D</span>)             │                             │                 │\n",
       "├──────────────────────────────────────┼─────────────────────────────┼─────────────────┤\n",
       "│ dense_12 (<span style=\"color: #0087ff; text-decoration-color: #0087ff\">Dense</span>)                     │ (<span style=\"color: #00d7ff; text-decoration-color: #00d7ff\">None</span>, <span style=\"color: #00af00; text-decoration-color: #00af00\">8</span>)                   │             <span style=\"color: #00af00; text-decoration-color: #00af00\">112</span> │\n",
       "├──────────────────────────────────────┼─────────────────────────────┼─────────────────┤\n",
       "│ dropout (<span style=\"color: #0087ff; text-decoration-color: #0087ff\">Dropout</span>)                    │ (<span style=\"color: #00d7ff; text-decoration-color: #00d7ff\">None</span>, <span style=\"color: #00af00; text-decoration-color: #00af00\">8</span>)                   │               <span style=\"color: #00af00; text-decoration-color: #00af00\">0</span> │\n",
       "├──────────────────────────────────────┼─────────────────────────────┼─────────────────┤\n",
       "│ dense_13 (<span style=\"color: #0087ff; text-decoration-color: #0087ff\">Dense</span>)                     │ (<span style=\"color: #00d7ff; text-decoration-color: #00d7ff\">None</span>, <span style=\"color: #00af00; text-decoration-color: #00af00\">5</span>)                   │              <span style=\"color: #00af00; text-decoration-color: #00af00\">45</span> │\n",
       "├──────────────────────────────────────┼─────────────────────────────┼─────────────────┤\n",
       "│ dropout_1 (<span style=\"color: #0087ff; text-decoration-color: #0087ff\">Dropout</span>)                  │ (<span style=\"color: #00d7ff; text-decoration-color: #00d7ff\">None</span>, <span style=\"color: #00af00; text-decoration-color: #00af00\">5</span>)                   │               <span style=\"color: #00af00; text-decoration-color: #00af00\">0</span> │\n",
       "├──────────────────────────────────────┼─────────────────────────────┼─────────────────┤\n",
       "│ dense_14 (<span style=\"color: #0087ff; text-decoration-color: #0087ff\">Dense</span>)                     │ (<span style=\"color: #00d7ff; text-decoration-color: #00d7ff\">None</span>, <span style=\"color: #00af00; text-decoration-color: #00af00\">1</span>)                   │               <span style=\"color: #00af00; text-decoration-color: #00af00\">6</span> │\n",
       "└──────────────────────────────────────┴─────────────────────────────┴─────────────────┘\n",
       "</pre>\n"
      ],
      "text/plain": [
       "┏━━━━━━━━━━━━━━━━━━━━━━━━━━━━━━━━━━━━━━┳━━━━━━━━━━━━━━━━━━━━━━━━━━━━━┳━━━━━━━━━━━━━━━━━┓\n",
       "┃\u001b[1m \u001b[0m\u001b[1mLayer (type)                        \u001b[0m\u001b[1m \u001b[0m┃\u001b[1m \u001b[0m\u001b[1mOutput Shape               \u001b[0m\u001b[1m \u001b[0m┃\u001b[1m \u001b[0m\u001b[1m        Param #\u001b[0m\u001b[1m \u001b[0m┃\n",
       "┡━━━━━━━━━━━━━━━━━━━━━━━━━━━━━━━━━━━━━━╇━━━━━━━━━━━━━━━━━━━━━━━━━━━━━╇━━━━━━━━━━━━━━━━━┩\n",
       "│ embedding_5 (\u001b[38;5;33mEmbedding\u001b[0m)              │ (\u001b[38;5;45mNone\u001b[0m, \u001b[38;5;34m100\u001b[0m, \u001b[38;5;34m13\u001b[0m)             │         \u001b[38;5;34m377,000\u001b[0m │\n",
       "├──────────────────────────────────────┼─────────────────────────────┼─────────────────┤\n",
       "│ global_average_pooling1d_5           │ (\u001b[38;5;45mNone\u001b[0m, \u001b[38;5;34m13\u001b[0m)                  │               \u001b[38;5;34m0\u001b[0m │\n",
       "│ (\u001b[38;5;33mGlobalAveragePooling1D\u001b[0m)             │                             │                 │\n",
       "├──────────────────────────────────────┼─────────────────────────────┼─────────────────┤\n",
       "│ dense_12 (\u001b[38;5;33mDense\u001b[0m)                     │ (\u001b[38;5;45mNone\u001b[0m, \u001b[38;5;34m8\u001b[0m)                   │             \u001b[38;5;34m112\u001b[0m │\n",
       "├──────────────────────────────────────┼─────────────────────────────┼─────────────────┤\n",
       "│ dropout (\u001b[38;5;33mDropout\u001b[0m)                    │ (\u001b[38;5;45mNone\u001b[0m, \u001b[38;5;34m8\u001b[0m)                   │               \u001b[38;5;34m0\u001b[0m │\n",
       "├──────────────────────────────────────┼─────────────────────────────┼─────────────────┤\n",
       "│ dense_13 (\u001b[38;5;33mDense\u001b[0m)                     │ (\u001b[38;5;45mNone\u001b[0m, \u001b[38;5;34m5\u001b[0m)                   │              \u001b[38;5;34m45\u001b[0m │\n",
       "├──────────────────────────────────────┼─────────────────────────────┼─────────────────┤\n",
       "│ dropout_1 (\u001b[38;5;33mDropout\u001b[0m)                  │ (\u001b[38;5;45mNone\u001b[0m, \u001b[38;5;34m5\u001b[0m)                   │               \u001b[38;5;34m0\u001b[0m │\n",
       "├──────────────────────────────────────┼─────────────────────────────┼─────────────────┤\n",
       "│ dense_14 (\u001b[38;5;33mDense\u001b[0m)                     │ (\u001b[38;5;45mNone\u001b[0m, \u001b[38;5;34m1\u001b[0m)                   │               \u001b[38;5;34m6\u001b[0m │\n",
       "└──────────────────────────────────────┴─────────────────────────────┴─────────────────┘\n"
      ]
     },
     "metadata": {},
     "output_type": "display_data"
    },
    {
     "data": {
      "text/html": [
       "<pre style=\"white-space:pre;overflow-x:auto;line-height:normal;font-family:Menlo,'DejaVu Sans Mono',consolas,'Courier New',monospace\"><span style=\"font-weight: bold\"> Total params: </span><span style=\"color: #00af00; text-decoration-color: #00af00\">377,163</span> (1.44 MB)\n",
       "</pre>\n"
      ],
      "text/plain": [
       "\u001b[1m Total params: \u001b[0m\u001b[38;5;34m377,163\u001b[0m (1.44 MB)\n"
      ]
     },
     "metadata": {},
     "output_type": "display_data"
    },
    {
     "data": {
      "text/html": [
       "<pre style=\"white-space:pre;overflow-x:auto;line-height:normal;font-family:Menlo,'DejaVu Sans Mono',consolas,'Courier New',monospace\"><span style=\"font-weight: bold\"> Trainable params: </span><span style=\"color: #00af00; text-decoration-color: #00af00\">377,163</span> (1.44 MB)\n",
       "</pre>\n"
      ],
      "text/plain": [
       "\u001b[1m Trainable params: \u001b[0m\u001b[38;5;34m377,163\u001b[0m (1.44 MB)\n"
      ]
     },
     "metadata": {},
     "output_type": "display_data"
    },
    {
     "data": {
      "text/html": [
       "<pre style=\"white-space:pre;overflow-x:auto;line-height:normal;font-family:Menlo,'DejaVu Sans Mono',consolas,'Courier New',monospace\"><span style=\"font-weight: bold\"> Non-trainable params: </span><span style=\"color: #00af00; text-decoration-color: #00af00\">0</span> (0.00 B)\n",
       "</pre>\n"
      ],
      "text/plain": [
       "\u001b[1m Non-trainable params: \u001b[0m\u001b[38;5;34m0\u001b[0m (0.00 B)\n"
      ]
     },
     "metadata": {},
     "output_type": "display_data"
    }
   ],
   "source": [
    "model.summary()"
   ]
  },
  {
   "cell_type": "code",
   "execution_count": 120,
   "id": "bba49e28-a335-4067-9a91-5799308af7a8",
   "metadata": {},
   "outputs": [],
   "source": [
    "model.compile(\n",
    "    loss=\"binary_crossentropy\",\n",
    "    optimizer=\"adam\",\n",
    "    metrics=[\"accuracy\"]\n",
    ")"
   ]
  },
  {
   "cell_type": "code",
   "execution_count": 121,
   "id": "f6bda955-c0aa-42e9-b78f-726ce17e715a",
   "metadata": {},
   "outputs": [
    {
     "name": "stdout",
     "output_type": "stream",
     "text": [
      "Epoch 1/50\n",
      "\u001b[1m625/625\u001b[0m \u001b[32m━━━━━━━━━━━━━━━━━━━━\u001b[0m\u001b[37m\u001b[0m \u001b[1m9s\u001b[0m 11ms/step - accuracy: 0.5336 - loss: 0.6917 - val_accuracy: 0.6856 - val_loss: 0.6585\n",
      "Epoch 2/50\n",
      "\u001b[1m625/625\u001b[0m \u001b[32m━━━━━━━━━━━━━━━━━━━━\u001b[0m\u001b[37m\u001b[0m \u001b[1m6s\u001b[0m 9ms/step - accuracy: 0.6529 - loss: 0.6405 - val_accuracy: 0.7914 - val_loss: 0.5423\n",
      "Epoch 3/50\n",
      "\u001b[1m625/625\u001b[0m \u001b[32m━━━━━━━━━━━━━━━━━━━━\u001b[0m\u001b[37m\u001b[0m \u001b[1m5s\u001b[0m 8ms/step - accuracy: 0.8247 - loss: 0.4747 - val_accuracy: 0.8196 - val_loss: 0.5088\n",
      "Epoch 4/50\n",
      "\u001b[1m625/625\u001b[0m \u001b[32m━━━━━━━━━━━━━━━━━━━━\u001b[0m\u001b[37m\u001b[0m \u001b[1m5s\u001b[0m 8ms/step - accuracy: 0.8655 - loss: 0.3827 - val_accuracy: 0.8286 - val_loss: 0.5480\n",
      "Epoch 5/50\n",
      "\u001b[1m625/625\u001b[0m \u001b[32m━━━━━━━━━━━━━━━━━━━━\u001b[0m\u001b[37m\u001b[0m \u001b[1m5s\u001b[0m 9ms/step - accuracy: 0.8849 - loss: 0.3310 - val_accuracy: 0.8330 - val_loss: 0.5970\n",
      "Epoch 6/50\n",
      "\u001b[1m625/625\u001b[0m \u001b[32m━━━━━━━━━━━━━━━━━━━━\u001b[0m\u001b[37m\u001b[0m \u001b[1m5s\u001b[0m 8ms/step - accuracy: 0.9056 - loss: 0.2822 - val_accuracy: 0.8314 - val_loss: 0.6342\n",
      "Epoch 7/50\n",
      "\u001b[1m625/625\u001b[0m \u001b[32m━━━━━━━━━━━━━━━━━━━━\u001b[0m\u001b[37m\u001b[0m \u001b[1m5s\u001b[0m 8ms/step - accuracy: 0.9177 - loss: 0.2481 - val_accuracy: 0.8338 - val_loss: 0.6727\n",
      "Epoch 8/50\n",
      "\u001b[1m625/625\u001b[0m \u001b[32m━━━━━━━━━━━━━━━━━━━━\u001b[0m\u001b[37m\u001b[0m \u001b[1m5s\u001b[0m 9ms/step - accuracy: 0.9222 - loss: 0.2298 - val_accuracy: 0.8322 - val_loss: 0.6887\n",
      "Epoch 9/50\n",
      "\u001b[1m625/625\u001b[0m \u001b[32m━━━━━━━━━━━━━━━━━━━━\u001b[0m\u001b[37m\u001b[0m \u001b[1m5s\u001b[0m 9ms/step - accuracy: 0.9280 - loss: 0.2121 - val_accuracy: 0.8340 - val_loss: 0.7450\n",
      "Epoch 10/50\n",
      "\u001b[1m625/625\u001b[0m \u001b[32m━━━━━━━━━━━━━━━━━━━━\u001b[0m\u001b[37m\u001b[0m \u001b[1m9s\u001b[0m 14ms/step - accuracy: 0.9355 - loss: 0.1961 - val_accuracy: 0.8334 - val_loss: 0.8675\n",
      "Epoch 11/50\n",
      "\u001b[1m625/625\u001b[0m \u001b[32m━━━━━━━━━━━━━━━━━━━━\u001b[0m\u001b[37m\u001b[0m \u001b[1m8s\u001b[0m 12ms/step - accuracy: 0.9324 - loss: 0.1975 - val_accuracy: 0.8346 - val_loss: 0.9848\n",
      "Epoch 12/50\n",
      "\u001b[1m625/625\u001b[0m \u001b[32m━━━━━━━━━━━━━━━━━━━━\u001b[0m\u001b[37m\u001b[0m \u001b[1m6s\u001b[0m 10ms/step - accuracy: 0.9499 - loss: 0.1580 - val_accuracy: 0.8342 - val_loss: 0.9202\n",
      "Epoch 13/50\n",
      "\u001b[1m625/625\u001b[0m \u001b[32m━━━━━━━━━━━━━━━━━━━━\u001b[0m\u001b[37m\u001b[0m \u001b[1m6s\u001b[0m 10ms/step - accuracy: 0.9538 - loss: 0.1510 - val_accuracy: 0.8336 - val_loss: 1.1122\n",
      "Epoch 14/50\n",
      "\u001b[1m625/625\u001b[0m \u001b[32m━━━━━━━━━━━━━━━━━━━━\u001b[0m\u001b[37m\u001b[0m \u001b[1m6s\u001b[0m 9ms/step - accuracy: 0.9534 - loss: 0.1476 - val_accuracy: 0.8334 - val_loss: 1.1531\n",
      "Epoch 15/50\n",
      "\u001b[1m625/625\u001b[0m \u001b[32m━━━━━━━━━━━━━━━━━━━━\u001b[0m\u001b[37m\u001b[0m \u001b[1m5s\u001b[0m 9ms/step - accuracy: 0.9512 - loss: 0.1471 - val_accuracy: 0.8334 - val_loss: 1.3237\n",
      "Epoch 16/50\n",
      "\u001b[1m625/625\u001b[0m \u001b[32m━━━━━━━━━━━━━━━━━━━━\u001b[0m\u001b[37m\u001b[0m \u001b[1m11s\u001b[0m 9ms/step - accuracy: 0.9559 - loss: 0.1353 - val_accuracy: 0.8344 - val_loss: 1.3341\n",
      "Epoch 17/50\n",
      "\u001b[1m625/625\u001b[0m \u001b[32m━━━━━━━━━━━━━━━━━━━━\u001b[0m\u001b[37m\u001b[0m \u001b[1m6s\u001b[0m 9ms/step - accuracy: 0.9598 - loss: 0.1303 - val_accuracy: 0.8332 - val_loss: 1.4186\n",
      "Epoch 18/50\n",
      "\u001b[1m625/625\u001b[0m \u001b[32m━━━━━━━━━━━━━━━━━━━━\u001b[0m\u001b[37m\u001b[0m \u001b[1m6s\u001b[0m 9ms/step - accuracy: 0.9624 - loss: 0.1182 - val_accuracy: 0.8336 - val_loss: 1.5874\n",
      "Epoch 19/50\n",
      "\u001b[1m625/625\u001b[0m \u001b[32m━━━━━━━━━━━━━━━━━━━━\u001b[0m\u001b[37m\u001b[0m \u001b[1m6s\u001b[0m 9ms/step - accuracy: 0.9635 - loss: 0.1161 - val_accuracy: 0.8324 - val_loss: 1.5336\n",
      "Epoch 20/50\n",
      "\u001b[1m625/625\u001b[0m \u001b[32m━━━━━━━━━━━━━━━━━━━━\u001b[0m\u001b[37m\u001b[0m \u001b[1m5s\u001b[0m 9ms/step - accuracy: 0.9620 - loss: 0.1178 - val_accuracy: 0.8322 - val_loss: 1.6390\n",
      "Epoch 21/50\n",
      "\u001b[1m625/625\u001b[0m \u001b[32m━━━━━━━━━━━━━━━━━━━━\u001b[0m\u001b[37m\u001b[0m \u001b[1m6s\u001b[0m 9ms/step - accuracy: 0.9647 - loss: 0.1118 - val_accuracy: 0.8318 - val_loss: 1.7810\n"
     ]
    }
   ],
   "source": [
    "history = model.fit(training_padded, train_labels, epochs= 50, validation_data= (test_padded, test_labels), callbacks=[ stop, model_ckp])"
   ]
  },
  {
   "cell_type": "code",
   "execution_count": 122,
   "id": "f61fe907-58a0-4f94-9669-baf68a6a80db",
   "metadata": {},
   "outputs": [
    {
     "data": {
      "text/plain": [
       "numpy.ndarray"
      ]
     },
     "execution_count": 122,
     "metadata": {},
     "output_type": "execute_result"
    }
   ],
   "source": [
    "type(test_labels)"
   ]
  },
  {
   "cell_type": "code",
   "execution_count": 123,
   "id": "2e834874-e2c6-436b-aa09-f668ce60644b",
   "metadata": {},
   "outputs": [
    {
     "data": {
      "text/plain": [
       "numpy.ndarray"
      ]
     },
     "execution_count": 123,
     "metadata": {},
     "output_type": "execute_result"
    }
   ],
   "source": [
    "type(test_padded)"
   ]
  },
  {
   "cell_type": "code",
   "execution_count": 124,
   "id": "5dc29739-fc4d-4b66-b109-d02590734960",
   "metadata": {},
   "outputs": [
    {
     "name": "stdout",
     "output_type": "stream",
     "text": [
      "int32\n",
      "int32\n",
      "int32\n",
      "int32\n"
     ]
    }
   ],
   "source": [
    "print(training_padded.dtype)\n",
    "print(train_labels.dtype)\n",
    "print(test_padded.dtype)\n",
    "print(test_labels.dtype)"
   ]
  },
  {
   "cell_type": "code",
   "execution_count": 125,
   "id": "27b9fb39-2f00-4307-b0c4-deeb18b2459d",
   "metadata": {},
   "outputs": [
    {
     "data": {
      "text/plain": [
       "dtype('int32')"
      ]
     },
     "execution_count": 125,
     "metadata": {},
     "output_type": "execute_result"
    }
   ],
   "source": [
    "training_padded.dtype"
   ]
  },
  {
   "cell_type": "code",
   "execution_count": 126,
   "id": "cd47e458-1342-45f3-8c27-bdf1ac13e5fd",
   "metadata": {},
   "outputs": [
    {
     "data": {
      "text/plain": [
       "dtype('int32')"
      ]
     },
     "execution_count": 126,
     "metadata": {},
     "output_type": "execute_result"
    }
   ],
   "source": [
    "train_labels.dtype"
   ]
  },
  {
   "cell_type": "code",
   "execution_count": 127,
   "id": "4516e8d6-9303-4a16-9f85-355606341d8c",
   "metadata": {},
   "outputs": [
    {
     "data": {
      "image/png": "[encoded data removed]",
      "text/plain": [
       "<Figure size 640x480 with 1 Axes>"
      ]
     },
     "metadata": {},
     "output_type": "display_data"
    }
   ],
   "source": [
    "plt.plot(np.arange(0,len(history.history[\"val_accuracy\"])), history.history[\"loss\"], c=\"b\")\n",
    "plt.plot(np.arange(0,len(history.history[\"val_accuracy\"])), history.history[\"val_loss\"], c=\"r\")\n",
    "plt.xlabel(\"n_epochs\")\n",
    "plt.ylabel(\"loss\")\n",
    "plt.legend(\"upper right\")\n",
    "plt.show()"
   ]
  },
  {
   "cell_type": "code",
   "execution_count": 128,
   "id": "0b44f16c-131e-4dbb-9ec7-c567dd9cbe98",
   "metadata": {},
   "outputs": [
    {
     "data": {
      "image/png": "[encoded data removed]",
      "text/plain": [
       "<Figure size 640x480 with 1 Axes>"
      ]
     },
     "metadata": {},
     "output_type": "display_data"
    }
   ],
   "source": [
    "plt.plot(np.arange(0,len(history.history[\"val_accuracy\"])), history.history[\"accuracy\"], c=\"b\")\n",
    "plt.plot(np.arange(0,len(history.history[\"val_accuracy\"])), history.history[\"val_accuracy\"], c=\"r\")\n",
    "plt.xlabel(\"n_epochs\")\n",
    "plt.ylabel(\"Accuracy\")\n",
    "plt.legend(\"upper right\")\n",
    "plt.show()"
   ]
  },
  {
   "cell_type": "code",
   "execution_count": 129,
   "id": "8ab0bda1-75c7-43d5-b4cb-6c2912ef4bb4",
   "metadata": {},
   "outputs": [
    {
     "data": {
      "text/plain": [
       "13.049669101523763"
      ]
     },
     "execution_count": 129,
     "metadata": {},
     "output_type": "execute_result"
    }
   ],
   "source": [
    "np.sqrt(np.sqrt(29000))"
   ]
  },
  {
   "cell_type": "markdown",
   "id": "39f966fc-9fda-4640-815e-a4c8a6b1d9ce",
   "metadata": {},
   "source": [
    "# Transfert Learning\n"
   ]
  },
  {
   "cell_type": "code",
   "execution_count": null,
   "id": "60693f07-bc34-4149-a5cd-95115e0c54f4",
   "metadata": {},
   "outputs": [],
   "source": [
    "!pip install --upgrade tensorflow_hub"
   ]
  },
  {
   "cell_type": "code",
   "execution_count": 132,
   "id": "8ef2eda6-7545-4d7a-9198-bb68fe742a74",
   "metadata": {},
   "outputs": [
    {
     "name": "stdout",
     "output_type": "stream",
     "text": [
      "WARNING:tensorflow:From C:\\Python312\\Lib\\site-packages\\tf_keras\\src\\losses.py:2976: The name tf.losses.sparse_softmax_cross_entropy is deprecated. Please use tf.compat.v1.losses.sparse_softmax_cross_entropy instead.\n",
      "\n"
     ]
    },
    {
     "name": "stderr",
     "output_type": "stream",
     "text": [
      "WARNING:tensorflow:From C:\\Python312\\Lib\\site-packages\\tf_keras\\src\\losses.py:2976: The name tf.losses.sparse_softmax_cross_entropy is deprecated. Please use tf.compat.v1.losses.sparse_softmax_cross_entropy instead.\n",
      "\n"
     ]
    }
   ],
   "source": [
    "import tensorflow_hub as hb"
   ]
  },
  {
   "cell_type": "code",
   "execution_count": null,
   "id": "2bf425c6-145b-4c96-bfb6-5e538b0edc1a",
   "metadata": {},
   "outputs": [],
   "source": []
  },
  {
   "cell_type": "code",
   "execution_count": 134,
   "id": "2c6aadf7-24cf-41c8-9469-baa9d751dfd8",
   "metadata": {},
   "outputs": [],
   "source": [
    "import tensorflow_hub as hub\n",
    "\n",
    "rembed = hub. load(\"https://tfhub.dev/google/tf2-preview/gnews-swivel-20dim/1\")\n",
    "embeddings = rembed([\"cat is on the mat\", \"dog is in the fog\"])"
   ]
  },
  {
   "cell_type": "code",
   "execution_count": 135,
   "id": "e69b95e6-3d5e-4087-a988-ffaccec08d06",
   "metadata": {},
   "outputs": [
    {
     "data": {
      "text/plain": [
       "TensorShape([2, 20])"
      ]
     },
     "execution_count": 135,
     "metadata": {},
     "output_type": "execute_result"
    }
   ],
   "source": [
    "embeddings.shape"
   ]
  },
  {
   "cell_type": "code",
   "execution_count": null,
   "id": "b48f7e66-31db-4131-a9a4-d6ab73f18da5",
   "metadata": {},
   "outputs": [],
   "source": []
  },
  {
   "cell_type": "code",
   "execution_count": null,
   "id": "76042637-a920-480b-90c4-65cb560cea55",
   "metadata": {},
   "outputs": [],
   "source": []
  }
 ],
 "metadata": {
  "kernelspec": {
   "display_name": "Python 3 (ipykernel)",
   "language": "python",
   "name": "python3"
  },
  "language_info": {
   "codemirror_mode": {
    "name": "ipython",
    "version": 3
   },
   "file_extension": ".py",
   "mimetype": "text/x-python",
   "name": "python",
   "nbconvert_exporter": "python",
   "pygments_lexer": "ipython3",
   "version": "3.12.0"
  }
 },
 "nbformat": 4,
 "nbformat_minor": 5
}
