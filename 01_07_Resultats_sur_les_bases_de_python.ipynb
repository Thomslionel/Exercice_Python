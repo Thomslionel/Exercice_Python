{
 "cells": [
  {
   "cell_type": "markdown",
   "id": "bf72f731-ad7d-4c9d-804a-879eb54ef301",
   "metadata": {},
   "source": [
    "# Exo 1 : Devine le nombre"
   ]
  },
  {
   "cell_type": "code",
   "execution_count": null,
   "id": "9d776c60-8580-43c3-b77b-55419b99f87a",
   "metadata": {},
   "outputs": [],
   "source": []
  },
  {
   "cell_type": "code",
   "execution_count": 1,
   "id": "4f3024a2-2807-456a-9fc6-8281a77644c9",
   "metadata": {},
   "outputs": [
    {
     "name": "stdout",
     "output_type": "stream",
     "text": [
      "Veuillez saisir le nombre 50\n"
     ]
    },
    {
     "name": "stdout",
     "output_type": "stream",
     "text": [
      "50 est grand\n"
     ]
    },
    {
     "name": "stdout",
     "output_type": "stream",
     "text": [
      "Veuillez saisir le nombre 14\n"
     ]
    },
    {
     "name": "stdout",
     "output_type": "stream",
     "text": [
      "14 est petit\n"
     ]
    },
    {
     "name": "stdout",
     "output_type": "stream",
     "text": [
      "Veuillez saisir le nombre 35\n"
     ]
    },
    {
     "name": "stdout",
     "output_type": "stream",
     "text": [
      "35 est petit\n"
     ]
    },
    {
     "name": "stdout",
     "output_type": "stream",
     "text": [
      "Veuillez saisir le nombre 45\n"
     ]
    },
    {
     "name": "stdout",
     "output_type": "stream",
     "text": [
      "45 est grand\n"
     ]
    },
    {
     "name": "stdout",
     "output_type": "stream",
     "text": [
      "Veuillez saisir le nombre 39\n"
     ]
    },
    {
     "name": "stdout",
     "output_type": "stream",
     "text": [
      "39 est grand\n"
     ]
    },
    {
     "name": "stdout",
     "output_type": "stream",
     "text": [
      "Veuillez saisir le nombre 36\n"
     ]
    },
    {
     "name": "stdout",
     "output_type": "stream",
     "text": [
      "36 est petit\n"
     ]
    },
    {
     "name": "stdout",
     "output_type": "stream",
     "text": [
      "Veuillez saisir le nombre 37\n"
     ]
    },
    {
     "name": "stdout",
     "output_type": "stream",
     "text": [
      "Exactly\n",
      "37 est le nombre\n"
     ]
    }
   ],
   "source": [
    "\n",
    "import random\n",
    "def devinette() :\n",
    "    choix = 0\n",
    "    random_number = random.randint(0,100)\n",
    "    \n",
    "    while (choix != random_number):\n",
    "        choix = int(input(\"Veuillez saisir le nombre\"))\n",
    "        if(choix < random_number):\n",
    "            print(f\"{choix} est petit\")\n",
    "        if(choix > random_number):\n",
    "            print(f\"{choix} est grand\")\n",
    "    \n",
    "    print(\"Exactly\")\n",
    "    print(f\"{choix} est le nombre\")\n",
    "devinette()"
   ]
  },
  {
   "cell_type": "code",
   "execution_count": null,
   "id": "17017ba5-b061-437b-bb81-893399624126",
   "metadata": {},
   "outputs": [],
   "source": []
  },
  {
   "cell_type": "markdown",
   "id": "482c7f54-ac01-4ade-8b1b-384629e964fa",
   "metadata": {},
   "source": [
    "# Exo 2: Devine le nombre: Niveau 2"
   ]
  },
  {
   "cell_type": "code",
   "execution_count": 2,
   "id": "3ff79e3f-0938-4262-95d5-33dd112a5275",
   "metadata": {},
   "outputs": [
    {
     "name": "stdout",
     "output_type": "stream",
     "text": [
      "il vous reste 2 vie\n"
     ]
    },
    {
     "name": "stdout",
     "output_type": "stream",
     "text": [
      "Veuillez saisir le nombre 37\n"
     ]
    },
    {
     "name": "stdout",
     "output_type": "stream",
     "text": [
      "37 est petit\n",
      "il vous reste 1 vie\n"
     ]
    },
    {
     "name": "stdout",
     "output_type": "stream",
     "text": [
      "Veuillez saisir le nombre 79\n"
     ]
    },
    {
     "name": "stdout",
     "output_type": "stream",
     "text": [
      "79 est petit\n",
      "il vous reste 0 vie\n"
     ]
    },
    {
     "name": "stdout",
     "output_type": "stream",
     "text": [
      "Veuillez saisir le nombre 95\n"
     ]
    },
    {
     "name": "stdout",
     "output_type": "stream",
     "text": [
      "95 est grand\n",
      "il vous reste -1 vie\n",
      "Vous devez recommencer le jeu car votre vie = 0\n"
     ]
    }
   ],
   "source": [
    "\n",
    "import random\n",
    "def devinette() :\n",
    "    choix = 0\n",
    "    random_number = random.randint(0,100)\n",
    "    nbre_vie = 1\n",
    "    \n",
    "    while (choix != random_number):\n",
    "        print(f\"il vous reste {3-nbre_vie} vie\")\n",
    "        if(nbre_vie > 3):\n",
    "            print(f\"Vous devez recommencer le jeu car votre vie = 0\")\n",
    "            break;\n",
    "        choix = int(input(\"Veuillez saisir le nombre\"))\n",
    "        if(choix < random_number):\n",
    "            print(f\"{choix} est petit\")\n",
    "            nbre_vie +=1\n",
    "        if(choix > random_number):\n",
    "            print(f\"{choix} est grand\")\n",
    "            nbre_vie +=1\n",
    "            \n",
    "    if((choix == random_number) and (nbre_vie <=3)):\n",
    "        print(\"Exactly\")\n",
    "        print(f\"{choix} est le nombre\")\n",
    "        \n",
    "    \n",
    "   \n",
    "devinette()"
   ]
  },
  {
   "cell_type": "code",
   "execution_count": null,
   "id": "850b876a-b22a-4e91-a069-96e8aad12d7f",
   "metadata": {},
   "outputs": [],
   "source": []
  },
  {
   "cell_type": "markdown",
   "id": "0e2f3d58-4f9f-4419-b987-498897fa04ec",
   "metadata": {},
   "source": [
    "# Exo 3 : La fonction sum"
   ]
  },
  {
   "cell_type": "code",
   "execution_count": 3,
   "id": "f065327c-65a4-4aa7-91ed-4dec97484c78",
   "metadata": {},
   "outputs": [
    {
     "name": "stdout",
     "output_type": "stream",
     "text": [
      "La sommes des valeur de la liste est 450\n"
     ]
    }
   ],
   "source": [
    "def summe(liste : list):\n",
    "    sommes = 0\n",
    "    for values in liste:\n",
    "        sommes+=values;\n",
    "    print(f\"La sommes des valeur de la liste est {sommes}\")\n",
    "\n",
    "summe(range(0,100,10))"
   ]
  },
  {
   "cell_type": "code",
   "execution_count": null,
   "id": "07b6d5d1-4f5c-40ac-9016-42f1795f7839",
   "metadata": {},
   "outputs": [],
   "source": [
    "\n"
   ]
  },
  {
   "cell_type": "markdown",
   "id": "035f2524-3a58-4dd8-94f5-b1094c683c39",
   "metadata": {},
   "source": [
    "# Exo 4 : Adresse email de nos employées"
   ]
  },
  {
   "cell_type": "code",
   "execution_count": 4,
   "id": "e1c75852-6a05-4903-aa7b-511007bcc801",
   "metadata": {},
   "outputs": [
    {
     "name": "stdout",
     "output_type": "stream",
     "text": [
      "Veuillez saisir votre nom manly\n",
      "Veuillez saisir votre prenom lionel\n"
     ]
    },
    {
     "name": "stdout",
     "output_type": "stream",
     "text": [
      "Votre adresse mail est lionel_manly@pythonboss.com\n"
     ]
    }
   ],
   "source": [
    "def adresseMail():\n",
    "    nom = input(\"Veuillez saisir votre nom\")\n",
    "    prenom = input(\"Veuillez saisir votre prenom\")\n",
    "    print(f\"Votre adresse mail est {prenom}_{nom}@pythonboss.com\")\n",
    "\n",
    "adresseMail()"
   ]
  },
  {
   "cell_type": "code",
   "execution_count": null,
   "id": "54ea6523-3d62-46e6-8ce0-0d24eca473c4",
   "metadata": {},
   "outputs": [],
   "source": []
  },
  {
   "cell_type": "markdown",
   "id": "28849a7b-59e4-43bb-b316-2dd2998f5b1e",
   "metadata": {},
   "source": [
    "# Exo 5 : Ordonner une chaine de caractères"
   ]
  },
  {
   "cell_type": "code",
   "execution_count": 5,
   "id": "e90209e5-9eaf-4e2d-91f6-f899c80c05ee",
   "metadata": {},
   "outputs": [
    {
     "name": "stdout",
     "output_type": "stream",
     "text": [
      "Le mot normal est python et ordonner est hnopty\n"
     ]
    }
   ],
   "source": [
    "def ordonne_str (mot : str):\n",
    "    mot_donner = sorted(mot)\n",
    "    ordre  = \"\"\n",
    "    for values in mot_donner:\n",
    "        ordre +=values\n",
    "    print(f\"Le mot normal est {mot} et ordonner est {ordre}\")\n",
    "\n",
    "ordonne_str(\"python\")"
   ]
  },
  {
   "cell_type": "code",
   "execution_count": null,
   "id": "4cff819b-1d0e-432f-9e4b-585356793aae",
   "metadata": {},
   "outputs": [],
   "source": []
  },
  {
   "cell_type": "markdown",
   "id": "a1349a75-c8d2-4269-a3d2-c764cce62986",
   "metadata": {},
   "source": [
    "# Exo 6 : Le Francais sans Voyelle"
   ]
  },
  {
   "cell_type": "code",
   "execution_count": 6,
   "id": "de635d96-9d81-4b95-b7dc-9b0d7a214baa",
   "metadata": {},
   "outputs": [
    {
     "name": "stdout",
     "output_type": "stream",
     "text": [
      "l fat trs ba c matn\n"
     ]
    }
   ],
   "source": [
    "#Les string sont immuables (peuvent pas être modifier)\n",
    "\n",
    "def francaisSansVoyelle(phrase):\n",
    "    liste_voyelle = ['e', 'i', 'o', 'u', 'y','E', 'I', 'O', 'U', 'Y']\n",
    "    new_sentences = \"\"\n",
    "    for values in phrase:\n",
    "        \n",
    "        if(values in liste_voyelle):\n",
    "            values = \"\"\n",
    "        new_sentences += values\n",
    "    print(new_sentences)\n",
    "        \n",
    "\n",
    "francaisSansVoyelle(\"Il fait tres beau ce matin\")"
   ]
  },
  {
   "cell_type": "code",
   "execution_count": null,
   "id": "7e8f0ee4-95e6-4e89-8a8a-022965ed8294",
   "metadata": {},
   "outputs": [],
   "source": []
  },
  {
   "cell_type": "markdown",
   "id": "a5d30ad5-da32-47ee-9530-d8db688fd83a",
   "metadata": {},
   "source": [
    "# Exo 8 : Début et fin des séquences"
   ]
  },
  {
   "cell_type": "code",
   "execution_count": 7,
   "id": "f0a6c506-c2a5-4c20-a341-88e5cd58065d",
   "metadata": {},
   "outputs": [
    {
     "name": "stdout",
     "output_type": "stream",
     "text": [
      "(1, 6)\n"
     ]
    }
   ],
   "source": [
    "def debut_fin (argument: list | tuple | str) : \n",
    "    if (type(argument)  == list):\n",
    "        print([argument[0], argument[-1]])\n",
    "    if (type(argument)  == tuple):\n",
    "        print((argument[0], argument[-1]))\n",
    "    if (type(argument)  == str):\n",
    "        print(f\" \\'{argument[0]}{argument[-1]}\\'\")\n",
    "\n",
    "\n",
    "debut_fin((1,2,3,6))\n",
    "    \n",
    "    "
   ]
  },
  {
   "cell_type": "code",
   "execution_count": 8,
   "id": "8e33527e-5cf5-48a5-b08d-4d591c4a0fb4",
   "metadata": {},
   "outputs": [
    {
     "name": "stdout",
     "output_type": "stream",
     "text": [
      "dy\n"
     ]
    }
   ],
   "source": [
    "# AUTRE SOLUTION\n",
    "def debut_fin(argument: list | tuple | str) -> list | tuple | str:\n",
    "    if type(argument) == list:\n",
    "        return [argument[0], argument[-1]]\n",
    "    elif type(argument) == tuple:\n",
    "        return argument[0], argument[-1]\n",
    "    elif type(argument) == str:\n",
    "        return argument[0] + argument[-1]\n",
    "    else:\n",
    "        raise ValueError(\"Type de séquence non pris en charge\")\n",
    "\n",
    "# Exemple d'utilisation\n",
    "print(debut_fin(\"deploy\"))  # Résultat attendu : 'dY'\n"
   ]
  },
  {
   "cell_type": "code",
   "execution_count": null,
   "id": "4ce99cc6-3961-49bd-81c2-726e778757e8",
   "metadata": {},
   "outputs": [],
   "source": []
  },
  {
   "cell_type": "markdown",
   "id": "a63a5d1e-6088-4206-ac9d-9e8223490279",
   "metadata": {},
   "source": [
    "# Exo 9 : Dis moi ton index, je te dirai qui tu es"
   ]
  },
  {
   "cell_type": "code",
   "execution_count": 9,
   "id": "56474512-a207-4c8d-9694-90bcee335f9e",
   "metadata": {},
   "outputs": [
    {
     "name": "stdout",
     "output_type": "stream",
     "text": [
      "[90, 120]\n"
     ]
    }
   ],
   "source": [
    "def disMoiTonIndex(liste_elements):\n",
    "    index_paire = 0;\n",
    "    index_impaire = 0;\n",
    "    for index, values in enumerate(liste_elements):\n",
    "        if(index % 2 ==0):\n",
    "            index_paire += values\n",
    "        else:\n",
    "            index_impaire +=values\n",
    "    print([index_paire, index_impaire])\n",
    "\n",
    "disMoiTonIndex([10,20,30,40,50,60])"
   ]
  },
  {
   "cell_type": "code",
   "execution_count": null,
   "id": "94c7f316-ed20-4e45-bb4d-210c83b0e08c",
   "metadata": {},
   "outputs": [],
   "source": []
  },
  {
   "cell_type": "markdown",
   "id": "81398ee3-ce6a-44b4-b118-414e79095682",
   "metadata": {},
   "source": [
    "# Exo 10 : Mot ayant le plus de lettre répétée"
   ]
  },
  {
   "cell_type": "code",
   "execution_count": 10,
   "id": "fb59e424-5dd9-4849-b06b-a1a1ec3c89c9",
   "metadata": {},
   "outputs": [
    {
     "name": "stdout",
     "output_type": "stream",
     "text": [
      "Le mot avec la lettre répétée le plus de fois est : effectuee\n"
     ]
    }
   ],
   "source": [
    "def mot_lettre_repetee(mots):\n",
    "    mot_max = \"\"\n",
    "    max_occurrences = 0\n",
    "\n",
    "    for mot in mots:\n",
    "        # Créez un dictionnaire pour compter les occurrences de chaque lettre\n",
    "        occurrences = {}\n",
    "        for lettre in mot:\n",
    "            if lettre in occurrences:\n",
    "                occurrences[lettre] += 1\n",
    "            else:\n",
    "                occurrences[lettre] = 1\n",
    "\n",
    "        # Trouvez la lettre avec le plus grand nombre d'occurrences\n",
    "        for lettre, nb_occurrences in occurrences.items():\n",
    "            if nb_occurrences > max_occurrences:\n",
    "                max_occurrences = nb_occurrences\n",
    "                mot_max = mot\n",
    "\n",
    "    return mot_max\n",
    "\n",
    "# Exemple d'utilisation\n",
    "liste_de_mots = [\"On\", \"a\", \"effectuee\", \"plusieurs\", \"tests\", \"elementaire\", \"ce\", \"matin\"]\n",
    "mot_resultat = mot_lettre_repetee(liste_de_mots)\n",
    "print(f\"Le mot avec la lettre répétée le plus de fois est : {mot_resultat}\")\n"
   ]
  },
  {
   "cell_type": "code",
   "execution_count": null,
   "id": "7914af10-0a5b-4bc4-8224-44d22ce684d5",
   "metadata": {},
   "outputs": [],
   "source": []
  },
  {
   "cell_type": "code",
   "execution_count": null,
   "id": "083db885-7228-4ed0-aaf6-0b72aec6bbc0",
   "metadata": {},
   "outputs": [],
   "source": []
  },
  {
   "cell_type": "markdown",
   "id": "bce4e5fe-bf4f-4e1e-8b3e-8d0bf6841a50",
   "metadata": {},
   "source": [
    "# Exo 11 : Distance entre plusieurs points"
   ]
  },
  {
   "cell_type": "code",
   "execution_count": 11,
   "id": "7e5b8fce-a6db-4b43-9602-d7509b25c125",
   "metadata": {},
   "outputs": [
    {
     "name": "stdout",
     "output_type": "stream",
     "text": [
      "[11, 5]\n"
     ]
    }
   ],
   "source": [
    "def calcul_distance(liste_valeur):\n",
    "    liste_retour = []\n",
    "    for index in range(len(liste_valeur) - 1):\n",
    "        liste_retour.append(abs(liste_valeur[index] - liste_valeur[index+1]))\n",
    "    print(liste_retour)\n",
    "\n",
    "calcul_distance([65, 54, 59])"
   ]
  },
  {
   "cell_type": "code",
   "execution_count": null,
   "id": "41bd5ba7-d9de-4fa6-b786-b5ccfa4e4e5f",
   "metadata": {},
   "outputs": [],
   "source": []
  },
  {
   "cell_type": "code",
   "execution_count": null,
   "id": "eadc9cf6-cb83-4888-b826-8c464da0857f",
   "metadata": {},
   "outputs": [],
   "source": []
  },
  {
   "cell_type": "markdown",
   "id": "266fef2b-305f-4cf6-8850-010879911ac0",
   "metadata": {},
   "source": [
    "# Exo 12: Lettres successifs et combien d'occurences"
   ]
  },
  {
   "cell_type": "code",
   "execution_count": 12,
   "id": "22e25a26-f9f1-4d2a-97ed-75d3dba2f6f5",
   "metadata": {},
   "outputs": [
    {
     "name": "stdout",
     "output_type": "stream",
     "text": [
      "[('a', 5), ('c', 2), ('d', 2)]\n"
     ]
    }
   ],
   "source": [
    "def occurence_sentences(mot):\n",
    "    occurence = {}\n",
    "    resultat = []\n",
    "    for values in mot:\n",
    "        if values in occurence:\n",
    "            occurence[values] +=1\n",
    "        else:\n",
    "            occurence[values] = 1\n",
    "    for index, values in occurence.items():\n",
    "        resultat.append((index, values))\n",
    "    print(resultat)\n",
    "\n",
    "occurence_sentences(\"aaaccdaad\")"
   ]
  },
  {
   "cell_type": "code",
   "execution_count": 13,
   "id": "3ac6798f-040b-47e4-a929-4f6f11e3d9b6",
   "metadata": {},
   "outputs": [
    {
     "name": "stdout",
     "output_type": "stream",
     "text": [
      "[('a', 3), ('c', 2), ('d', 1), ('a', 2), ('d', 1)]\n"
     ]
    }
   ],
   "source": [
    "def compter_occurrences(chaine):\n",
    "    result = []\n",
    "    count = 1\n",
    "\n",
    "    for i in range(1, len(chaine)):\n",
    "        if chaine[i] == chaine[i - 1]:\n",
    "            count += 1\n",
    "        else:\n",
    "            result.append((chaine[i - 1], count))\n",
    "            count = 1\n",
    "\n",
    "    result.append((chaine[-1], count))\n",
    "    return result\n",
    "\n",
    "chaine_exemple = \"aaaccdaad\"\n",
    "resultat = compter_occurrences(chaine_exemple)\n",
    "print(resultat)"
   ]
  },
  {
   "cell_type": "code",
   "execution_count": null,
   "id": "12ab4181-a1a2-4052-80bb-184ff1ced489",
   "metadata": {},
   "outputs": [],
   "source": []
  },
  {
   "cell_type": "code",
   "execution_count": null,
   "id": "b4a6b25b-51e0-46e9-b3b9-96dbbe09181f",
   "metadata": {},
   "outputs": [],
   "source": []
  },
  {
   "cell_type": "markdown",
   "id": "9358c638-4fca-4345-a580-a9b08438cfda",
   "metadata": {},
   "source": [
    "# Exo 13: Notre restaurant est fermé à cause de la crise du covid, commandez en ligne"
   ]
  },
  {
   "cell_type": "code",
   "execution_count": 14,
   "id": "3f188267-58ae-407c-8328-afb21f3f18ec",
   "metadata": {},
   "outputs": [
    {
     "name": "stdout",
     "output_type": "stream",
     "text": [
      "Bienvenu dans notre Restaurant\n",
      "Le menu est : \n",
      "riz à 500\n",
      "amiwô à 300\n",
      "tô à 500\n",
      "benga à 300\n",
      "porc à 1500\n"
     ]
    },
    {
     "name": "stdout",
     "output_type": "stream",
     "text": [
      "Choisisseez votre menu riz\n"
     ]
    },
    {
     "name": "stdout",
     "output_type": "stream",
     "text": [
      "Vous avez choisi riz\n",
      "Vos dépense : 500\n",
      "1 - Oui\n",
      "2 - Non\n"
     ]
    },
    {
     "name": "stdout",
     "output_type": "stream",
     "text": [
      "Voulez vous commander encore ? 2\n"
     ]
    },
    {
     "name": "stdout",
     "output_type": "stream",
     "text": [
      "Vous avez commander ['riz']\n"
     ]
    }
   ],
   "source": [
    "def restaurant():\n",
    "    menu = {\"riz\" : 500,\n",
    "            \"amiwô\" : 300,\n",
    "            \"tô\" : 500,\n",
    "            \"benga\" : 300,\n",
    "            \"porc\" : 1500\n",
    "           }\n",
    "    print(\"Bienvenu dans notre Restaurant\")\n",
    "    print(\"Le menu est : \")\n",
    "    for index, values in menu.items():\n",
    "        print(f\"{index} à {values}\")\n",
    "    choix = \"porc\"\n",
    "    solde = 0;\n",
    "    continuer = True\n",
    "    commande = []\n",
    "    while choix in menu.keys() and continuer:\n",
    "        choix = str(input(\"Choisisseez votre menu\"))\n",
    "        print(f\"Vous avez choisi {choix}\")\n",
    "        solde += menu[choix]\n",
    "        print(f\"Vos dépense : {solde}\")\n",
    "        commande.append(choix)\n",
    "        print(\"1 - Oui\")\n",
    "        print(\"2 - Non\")\n",
    "        nombre = int(input(\"Voulez vous commander encore ?\"))\n",
    "        if nombre == 2:\n",
    "            print(f\"Vous avez commander {commande}\")\n",
    "            continuer = False\n",
    "            break\n",
    "        \n",
    "\n",
    "restaurant()"
   ]
  },
  {
   "cell_type": "code",
   "execution_count": null,
   "id": "51da87dd-c6d9-47eb-904f-94d74a57bae0",
   "metadata": {},
   "outputs": [],
   "source": []
  },
  {
   "cell_type": "markdown",
   "id": "17a16b90-088a-4e85-9b35-223c37001f02",
   "metadata": {},
   "source": [
    "# Exo 14: Trop d'escale, c'est fatiguant"
   ]
  },
  {
   "cell_type": "code",
   "execution_count": 15,
   "id": "98c1c3af-5d60-468a-b322-482c32fb8f82",
   "metadata": {},
   "outputs": [
    {
     "name": "stdout",
     "output_type": "stream",
     "text": [
      "Entrez le nom de la ville ouagadougou\n",
      "Entrez le nombre d'heure d'escale 12\n"
     ]
    },
    {
     "name": "stdout",
     "output_type": "stream",
     "text": [
      "1 - Oui\n",
      "2 - Non\n"
     ]
    },
    {
     "name": "stdout",
     "output_type": "stream",
     "text": [
      "Voulez vous faire des escales ? (Choisissez 1 ou 2) 2\n"
     ]
    },
    {
     "name": "stdout",
     "output_type": "stream",
     "text": [
      "Villes : ouagadougou pour 12 heures\n",
      "Le nombre totale d'heure est de 12\n"
     ]
    }
   ],
   "source": [
    "def escale():\n",
    "    choix = \"1\"\n",
    "    escale = {}\n",
    "    nbretotalheure = 0\n",
    "    while( choix == \"1\"):\n",
    "        ville = input(\"Entrez le nom de la ville\")\n",
    "        heure = int(input(\"Entrez le nombre d'heure d'escale\"))\n",
    "        escale[ville] = heure\n",
    "        print(\"1 - Oui\")\n",
    "        print(\"2 - Non\")\n",
    "        choix = input(\"Voulez vous faire des escales ? (Choisissez 1 ou 2)\")\n",
    "    for index, values in escale.items():\n",
    "        print(f\"Villes : {index} pour {values} heures\")\n",
    "        nbretotalheure +=values\n",
    "    print(f\"Le nombre totale d'heure est de {nbretotalheure}\")\n",
    "\n",
    "escale()\n",
    "        \n",
    "   "
   ]
  },
  {
   "cell_type": "code",
   "execution_count": null,
   "id": "9c57b901-9d7a-41ce-a838-b96b8ca502a0",
   "metadata": {},
   "outputs": [],
   "source": []
  },
  {
   "cell_type": "code",
   "execution_count": null,
   "id": "e1518e43-52a3-493d-837c-609731abaaec",
   "metadata": {},
   "outputs": [],
   "source": []
  },
  {
   "cell_type": "markdown",
   "id": "9f54a69d-d1cd-417e-9be1-7acb0c834ac1",
   "metadata": {},
   "source": [
    "# Exo 15: Combien de mots il y a-t-il dans ton fichier ?¶"
   ]
  },
  {
   "cell_type": "code",
   "execution_count": 16,
   "id": "621815c5-bcb7-4eeb-8b60-bdf1f3a71b0f",
   "metadata": {},
   "outputs": [
    {
     "name": "stdout",
     "output_type": "stream",
     "text": [
      "Suggestion de thématique en rapport avec Intelligence Artificielle\n",
      "-\tMise en place d’une IA conversationnel en langue locale (mooré) ;\n",
      "-\tUtilisation du NLP pour le diagnostique des maladies de premier degré ;\n",
      "-\tDétection des anomalies sur une image radio grâce au computer vison ;\n",
      "-\tComputer vision pour la détection de certaines maladies des plantes ;\n",
      "-\tMesure de la distance entre les langues d'Afrique à travers des modèles dembedding (lang2vec) ;\n",
      "-\tTraitement du langage naturel : développer des modèles d'IA pour la compréhension du langage, l'analyse des sentiments et la génération du langage ;\n",
      "-\tMise en place d’un système intelligent de reconnaissance faciale au profil des entités de sécurisation territoriale ;\n",
      "\n",
      "['Suggestion', 'de', 'thématique', 'en', 'rapport', 'avec', 'Intelligence', 'Artificielle', '-', 'Mise', 'en', 'place', 'd’une', 'IA', 'conversationnel', 'en', 'langue', 'locale', '(mooré)', ';', '-', 'Utilisation', 'du', 'NLP', 'pour', 'le', 'diagnostique', 'des', 'maladies', 'de', 'premier', 'degré', ';', '-', 'Détection', 'des', 'anomalies', 'sur', 'une', 'image', 'radio', 'grâce', 'au', 'computer', 'vison', ';', '-', 'Computer', 'vision', 'pour', 'la', 'détection', 'de', 'certaines', 'maladies', 'des', 'plantes', ';', '-', 'Mesure', 'de', 'la', 'distance', 'entre', 'les', 'langues', \"d'Afrique\", 'à', 'travers', 'des', 'modèles', 'dembedding', '(lang2vec)', ';', '-', 'Traitement', 'du', 'langage', 'naturel', ':', 'développer', 'des', 'modèles', \"d'IA\", 'pour', 'la', 'compréhension', 'du', 'langage,', \"l'analyse\", 'des', 'sentiments', 'et', 'la', 'génération', 'du', 'langage', ';', '-', 'Mise', 'en', 'place', 'd’un', 'système', 'intelligent', 'de', 'reconnaissance', 'faciale', 'au', 'profil', 'des', 'entités', 'de', 'sécurisation', 'territoriale', ';']\n",
      "8\n",
      "Le nombre de caractères (les espaces inclus) est .... 722 caractères\n",
      "Le nombre de mots (séparé par des espaces: 25 est un mot) est ..... 116 mots\n",
      "Le nombre de lignes est .... 8 lignes\n",
      "Le nombre de mots distincts (\"Oui\" et \"oui\" sont 2 mots uniques) est .... 76 (taille du vocabulaire du fichier)\n"
     ]
    }
   ],
   "source": [
    "\n",
    "def wordcount(cheminFichier):\n",
    "    with open(cheminFichier, 'r',encoding='utf-8') as filedoc:\n",
    "        fichier = filedoc.read()\n",
    "        nbre_caractere = len(fichier)\n",
    "        donnee = fichier.split()\n",
    "        nbreLigne = fichier.count('\\n') \n",
    "        print(fichier)\n",
    "        print(donnee)\n",
    "        print(nbreLigne)\n",
    "        mots_distincts = set(donnee)\n",
    "        nb_mots_distincts = len(mots_distincts)\n",
    "        print(f\"Le nombre de caractères (les espaces inclus) est .... {nbre_caractere} caractères\")\n",
    "        print(f\"Le nombre de mots (séparé par des espaces: 25 est un mot) est ..... {len(donnee)} mots\")\n",
    "        print(f\"Le nombre de lignes est .... {nbreLigne} lignes\")\n",
    "        print(f\"Le nombre de mots distincts (\\\"Oui\\\" et \\\"oui\\\" sont 2 mots uniques) est .... {nb_mots_distincts} (taille du vocabulaire du fichier)\")\n",
    "wordcount(\"fichier.txt\")\n",
    "    "
   ]
  },
  {
   "cell_type": "code",
   "execution_count": null,
   "id": "bf3c9142-76b5-497e-bb1a-b855b1f4c603",
   "metadata": {},
   "outputs": [],
   "source": []
  },
  {
   "cell_type": "code",
   "execution_count": null,
   "id": "81d8132e-d41c-46ac-ae27-07812d71906a",
   "metadata": {},
   "outputs": [],
   "source": []
  },
  {
   "cell_type": "markdown",
   "id": "bc6a0def-dc89-4a36-9cc4-0a9c559282fe",
   "metadata": {},
   "source": [
    "# Exo 16: Générateur de mots de passe"
   ]
  },
  {
   "cell_type": "code",
   "execution_count": 17,
   "id": "4889a00e-290d-4077-8ff5-07c095816985",
   "metadata": {},
   "outputs": [
    {
     "name": "stdout",
     "output_type": "stream",
     "text": [
      "gL^0%TNXqf)y#PV)UBw\"gcQlBu2ODG\n"
     ]
    }
   ],
   "source": [
    "import random\n",
    "import string\n",
    "\n",
    "def generateur_password(listeDeCaractères):\n",
    "    def password(nbreCaractere):\n",
    "        mot_de_passe = \"\".join(random.choice(listeDeCaractères) for _ in range(nbreCaractere))\n",
    "        return mot_de_passe\n",
    "    return password\n",
    "\n",
    "caracteres_possibles = string.ascii_letters + string.digits + string.punctuation\n",
    "password = generateur_password(caracteres_possibles)\n",
    "mot_de_passe = password(30)\n",
    "\n",
    "print(mot_de_passe)"
   ]
  },
  {
   "cell_type": "code",
   "execution_count": null,
   "id": "55959e9f-dcde-4b56-aa17-0fbc6e6400a1",
   "metadata": {},
   "outputs": [],
   "source": []
  },
  {
   "cell_type": "code",
   "execution_count": null,
   "id": "8f762f08-b59e-4999-a186-c9bfed32ab19",
   "metadata": {},
   "outputs": [],
   "source": []
  },
  {
   "cell_type": "markdown",
   "id": "84066865-4601-435d-b3b7-226cddcf7304",
   "metadata": {},
   "source": [
    "# Exo 17: Modules"
   ]
  },
  {
   "cell_type": "code",
   "execution_count": 18,
   "id": "c4ea8b7d-2c56-4921-9ac4-d3b105dabe47",
   "metadata": {},
   "outputs": [],
   "source": [
    "def decision(python, numpy, pandas, matplotlib, abscence, niveau):\n",
    "    moyenne_python = python * 3\n",
    "    moyenne_numpy = numpy * 4\n",
    "    moyenne_pandas = pandas * 7\n",
    "    moyenne_matplotlib = matplotlib * 5\n",
    "    moyenne_sans_absence = (moyenne_matplotlib + moyenne_numpy + moyenne_pandas + moyenne_python) / 19\n",
    "    if(abscence >= 0):\n",
    "        moyenne_sans_absence -=(0.05 * abscence)\n",
    "    if(moyenne_sans_absence >= 17 and niveau == 5):\n",
    "        print(f\" Vous avez réussi la formation avec la moyenne {round(moyenne_sans_absence, 2)} et un niveau {niveau}\")\n",
    "    elif((moyenne_sans_absence < 17 and moyenne_sans_absence >= 15) and niveau == 4) :\n",
    "        print(f\" Vous avez réussi la formation avec la moyenne {round(moyenne_sans_absence, 2)} et un niveau {niveau}\")\n",
    "    elif((moyenne_sans_absence < 15 and moyenne_sans_absence >= 14) and niveau == 3) :\n",
    "        print(f\" Vous avez réussi la formation avec la moyenne {round(moyenne_sans_absence, 2)} et un niveau {niveau}\")\n",
    "    elif((moyenne_sans_absence < 14 and moyenne_sans_absence >= 13.5) and niveau == 2) :\n",
    "        print(f\" Vous avez réussi la formation avec la moyenne {round(moyenne_sans_absence, 2)} et un niveau {niveau}\")\n",
    "    elif((moyenne_sans_absence < 13.5 and moyenne_sans_absence >= 12) and niveau == 1) :\n",
    "        print(f\" Vous avez réussi la formation avec la moyenne {round(moyenne_sans_absence, 2)} et un niveau {niveau}\")\n",
    "    else:\n",
    "        print(f\"Vous avez échoué à l'examen avec {round(moyenne_sans_absence, 2)} et un niveau {niveau}\")\n",
    "\n"
   ]
  },
  {
   "cell_type": "code",
   "execution_count": null,
   "id": "bf1ee29a-907b-434e-8e0c-9b314ba83d47",
   "metadata": {},
   "outputs": [],
   "source": []
  },
  {
   "cell_type": "code",
   "execution_count": null,
   "id": "36c8ce3d-dd01-4d63-8709-e91d431dcac0",
   "metadata": {},
   "outputs": [],
   "source": []
  },
  {
   "cell_type": "markdown",
   "id": "2bf4afc8-414f-4157-979a-d2ad27500e53",
   "metadata": {},
   "source": [
    "# Exo 18: Programmation orientée objet"
   ]
  },
  {
   "cell_type": "code",
   "execution_count": 29,
   "id": "356d0c09-25b2-4dc2-97fd-c661d8033749",
   "metadata": {},
   "outputs": [
    {
     "name": "stdout",
     "output_type": "stream",
     "text": [
      "Votre voiture bleu a accelerer de 0.0 km/s\n",
      "Véhicule bleu: 9 km (arrêt)\n"
     ]
    }
   ],
   "source": [
    "class Vehicule :\n",
    "\n",
    "    def __init__(self, couleur, distance_parcourue):\n",
    "        self.couleur = couleur\n",
    "        self.distance_parcourue = distance_parcourue\n",
    "        self.vitesse_maximum = 1000\n",
    "        self.vitesse_actuelle = 0\n",
    "    def accelerer(self, duree, distance_parcourue):\n",
    "        self.distance_parcourue = self.distance_parcourue + distance_parcourue\n",
    "        vitesse_actuelle = (distance_parcourue) / (duree * 60)\n",
    "        self.vitesse_actuelle = vitesse_actuelle\n",
    "        if(vitesse_actuelle > self.vitesse_maximum):\n",
    "            vitesse_actuelle = self.vitesse_maximum\n",
    "            print(f\"Votre voiture {self.couleur} a accelerer de {round(vitesse_actuelle, 2)} km/s\")\n",
    "        else:\n",
    "            print(f\"Votre voiture {self.couleur} a accelerer de {round(vitesse_actuelle, 2)} km/s\")\n",
    "    def __repr__(self):\n",
    "        etat = \"en cours\" if self.vitesse_actuelle > 0 else \"arrêt\"\n",
    "        return f\"Véhicule {self.couleur}: {self.distance_parcourue} km ({etat})\"\n",
    "\n",
    "\n",
    "\n",
    "v1 = Vehicule(couleur='bleu', distance_parcourue=9)\n",
    "v1.accelerer(1, 0)\n",
    "print(v1)"
   ]
  },
  {
   "cell_type": "code",
   "execution_count": null,
   "id": "e4ea807b-905f-4364-8a57-350c67837d62",
   "metadata": {},
   "outputs": [],
   "source": []
  }
 ],
 "metadata": {
  "kernelspec": {
   "display_name": "Python 3 (ipykernel)",
   "language": "python",
   "name": "python3"
  },
  "language_info": {
   "codemirror_mode": {
    "name": "ipython",
    "version": 3
   },
   "file_extension": ".py",
   "mimetype": "text/x-python",
   "name": "python",
   "nbconvert_exporter": "python",
   "pygments_lexer": "ipython3",
   "version": "3.12.0"
  }
 },
 "nbformat": 4,
 "nbformat_minor": 5
}
